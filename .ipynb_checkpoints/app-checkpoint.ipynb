{
 "cells": [
  {
   "cell_type": "markdown",
   "id": "5ee77c27",
   "metadata": {},
   "source": [
    "# Python Fundamentals"
   ]
  },
  {
   "cell_type": "code",
   "execution_count": 1,
   "id": "fe789b13",
   "metadata": {},
   "outputs": [
    {
     "name": "stdout",
     "output_type": "stream",
     "text": [
      "4\n",
      "the array is :  [1, 3, 4, 6]\n"
     ]
    }
   ],
   "source": [
    "a=1\n",
    "a=1.68\n",
    "a=\"hello\"\n",
    "a=[1,3,4,6]\n",
    "print(a[2])\n",
    "print(\"the array is : \", a)"
   ]
  },
  {
   "cell_type": "code",
   "execution_count": null,
   "id": "8b2ae999",
   "metadata": {},
   "outputs": [],
   "source": [
    "a=3\n",
    "if a==1:\n",
    "    print(\"a is 1\")\n",
    "elif a==2:\n",
    "    print(\"a is 2\")\n",
    "else:\n",
    "    print(\"a is not 1 or 2\")"
   ]
  },
  {
   "cell_type": "code",
   "execution_count": null,
   "id": "e499d428",
   "metadata": {},
   "outputs": [
    {
     "name": "stdout",
     "output_type": "stream",
     "text": [
      "1\n",
      "2\n",
      "3\n",
      "4\n"
     ]
    }
   ],
   "source": [
    "a = 1\n",
    "while a < 5:\n",
    "    print(a)\n",
    "    a = a+1"
   ]
  },
  {
   "cell_type": "code",
   "execution_count": null,
   "id": "6e3b00ae",
   "metadata": {},
   "outputs": [
    {
     "data": {
      "text/plain": [
       "['Chocolate']"
      ]
     },
     "execution_count": 7,
     "metadata": {},
     "output_type": "execute_result"
    }
   ],
   "source": [
    "import joblib\n",
    "joblib.dump(model, \"Chocolate\")\n"
   ]
  },
  {
   "cell_type": "code",
   "execution_count": null,
   "id": "1e386d69",
   "metadata": {},
   "outputs": [],
   "source": [
    "#to add polynomial\n",
    "df[\"SGD2\"] = df[\"SGD\"] ** 2\n"
   ]
  },
  {
   "cell_type": "code",
   "execution_count": null,
   "id": "03ea460c",
   "metadata": {},
   "outputs": [],
   "source": [
    "from sklearn import tree\n",
    "model = tree.DecisionTreeRegressor()"
   ]
  },
  {
   "cell_type": "code",
   "execution_count": null,
   "id": "86244494",
   "metadata": {},
   "outputs": [],
   "source": [
    "from sklearn import neural_network\n",
    "model = neural_network.MLPRegressor(solver=\"lbfgs\", hidden_layer_sizes=(12,2))\n"
   ]
  },
  {
   "cell_type": "markdown",
   "id": "82d115b8",
   "metadata": {},
   "source": [
    "# DBS Regression"
   ]
  },
  {
   "cell_type": "code",
   "execution_count": 15,
   "id": "23bdc015",
   "metadata": {},
   "outputs": [
    {
     "name": "stdout",
     "output_type": "stream",
     "text": [
      "     Unnamed: 0        Date    DBS      SGD\n",
      "0             1   6/20/2017  20.45  1.38925\n",
      "1             2   6/19/2017  20.60  1.38707\n",
      "2             3   6/16/2017  20.45  1.38324\n",
      "3             4   6/15/2017  20.41  1.38378\n",
      "4             5   6/14/2017  20.59  1.37595\n",
      "..          ...         ...    ...      ...\n",
      "117         118  12/30/2016  17.09  1.44655\n",
      "118         119  12/29/2016  17.13  1.44814\n",
      "119         120  12/28/2016  17.22  1.45018\n",
      "120         121  12/27/2016  17.19  1.44954\n",
      "121         122  12/23/2016  17.14  1.44766\n",
      "\n",
      "[122 rows x 4 columns]\n",
      "         SGD\n",
      "0    1.38925\n",
      "1    1.38707\n",
      "2    1.38324\n",
      "3    1.38378\n",
      "4    1.37595\n",
      "..       ...\n",
      "117  1.44655\n",
      "118  1.44814\n",
      "119  1.45018\n",
      "120  1.44954\n",
      "121  1.44766\n",
      "\n",
      "[122 rows x 1 columns]\n"
     ]
    }
   ],
   "source": [
    "import pandas as pd\n",
    "from sklearn import linear_model\n",
    "from sklearn.metrics import mean_squared_error\n",
    "\n",
    "df = pd.read_csv(\"DBS_SingDollar.csv\")\n",
    "print(df)\n",
    "X = df.loc[:,[\"SGD\"]]\n",
    "Y = df.loc[:,['DBS']]\n",
    "print(X)"
   ]
  },
  {
   "cell_type": "code",
   "execution_count": 16,
   "id": "83c02312",
   "metadata": {},
   "outputs": [],
   "source": [
    "model = linear_model.LinearRegression()\n",
    "model.fit(X,Y)\n",
    "pred = model.predict(X)"
   ]
  },
  {
   "cell_type": "code",
   "execution_count": 19,
   "id": "0de5011c",
   "metadata": {},
   "outputs": [
    {
     "name": "stdout",
     "output_type": "stream",
     "text": [
      "0.6283698867042149\n"
     ]
    }
   ],
   "source": [
    "rmse = mean_squared_error(Y,pred) ** 0.5\n",
    "print(rmse)\n",
    "#print(rmse/Y.mean(axis=0)*100)"
   ]
  },
  {
   "cell_type": "code",
   "execution_count": 20,
   "id": "4e027983",
   "metadata": {},
   "outputs": [
    {
     "data": {
      "text/plain": [
       "['DBS_Reg']"
      ]
     },
     "execution_count": 20,
     "metadata": {},
     "output_type": "execute_result"
    }
   ],
   "source": [
    "import joblib\n",
    "joblib.dump(model, \"DBS_Reg\")"
   ]
  },
  {
   "cell_type": "markdown",
   "id": "c22242db",
   "metadata": {},
   "source": [
    "# Import Model"
   ]
  },
  {
   "cell_type": "code",
   "execution_count": 21,
   "id": "54169cf5",
   "metadata": {},
   "outputs": [],
   "source": [
    "import joblib"
   ]
  },
  {
   "cell_type": "code",
   "execution_count": 22,
   "id": "f514eb8b",
   "metadata": {},
   "outputs": [],
   "source": [
    "model = joblib.load(\"DBS_Reg\")"
   ]
  },
  {
   "cell_type": "code",
   "execution_count": 24,
   "id": "e7cb76fe",
   "metadata": {},
   "outputs": [
    {
     "name": "stdout",
     "output_type": "stream",
     "text": [
      "[[19.38726492]]\n"
     ]
    }
   ],
   "source": [
    "X = [[1.4]]\n",
    "pred = model.predict(X)\n",
    "print(pred)"
   ]
  },
  {
   "cell_type": "code",
   "execution_count": 25,
   "id": "a4db8c74",
   "metadata": {},
   "outputs": [
    {
     "name": "stdout",
     "output_type": "stream",
     "text": [
      "DBS_Reg             app.ipynb           \u001b[34mtemplates\u001b[m\u001b[m/\r\n",
      "DBS_SingDollar.csv  app.py\r\n"
     ]
    }
   ],
   "source": [
    "ls"
   ]
  },
  {
   "cell_type": "markdown",
   "id": "079b5432",
   "metadata": {},
   "source": [
    "# Backend"
   ]
  },
  {
   "cell_type": "code",
   "execution_count": null,
   "id": "9a5fdd79",
   "metadata": {},
   "outputs": [
    {
     "name": "stdout",
     "output_type": "stream",
     "text": [
      " * Serving Flask app \"__main__\" (lazy loading)\n",
      " * Environment: production\n",
      "\u001b[31m   WARNING: This is a development server. Do not use it in a production deployment.\u001b[0m\n",
      "\u001b[2m   Use a production WSGI server instead.\u001b[0m\n",
      " * Debug mode: off\n"
     ]
    },
    {
     "name": "stderr",
     "output_type": "stream",
     "text": [
      " * Running on http://127.0.0.1:1111/ (Press CTRL+C to quit)\n",
      "127.0.0.1 - - [19/Mar/2022 16:49:12] \"\u001b[37mGET / HTTP/1.1\u001b[0m\" 200 -\n",
      "127.0.0.1 - - [19/Mar/2022 16:49:15] \"\u001b[37mPOST / HTTP/1.1\u001b[0m\" 200 -\n"
     ]
    },
    {
     "name": "stdout",
     "output_type": "stream",
     "text": [
      "1.4\n",
      "[[19.38726492]]\n",
      "Predicted DBS Share Price : [[19.38726492]]\n"
     ]
    }
   ],
   "source": [
    "from flask import Flask\n",
    "app = Flask(__name__)\n",
    "\n",
    "from flask import request, render_template\n",
    "import joblib\n",
    "\n",
    "@app.route(\"/\", methods = [\"GET\", \"POST\"])\n",
    "def i():\n",
    "    if request.method == \"POST\":\n",
    "        num = float(request.form.get(\"rates\"))\n",
    "        print(num)\n",
    "        model = joblib.load(\"DBS_Reg\")\n",
    "        pred = model.predict([[num]])\n",
    "        print(pred)\n",
    "        s = \"Predicted DBS Share Price : \" + str(pred)\n",
    "        print(s)\n",
    "        return(render_template(\"index.html\", result = s))\n",
    "    else:\n",
    "        return render_template(\"index.html\", result =\"DBS Share Price Prediction\")\n",
    "\n",
    "if __name__ == '__main__':\n",
    "     app.run()\n"
   ]
  },
  {
   "cell_type": "code",
   "execution_count": 11,
   "id": "df0e2a67",
   "metadata": {},
   "outputs": [
    {
     "name": "stdout",
     "output_type": "stream",
     "text": [
      "DBS_Reg             app.ipynb           \u001b[34mtemplates\u001b[m\u001b[m/\r\n",
      "DBS_SingDollar.csv  app.py\r\n"
     ]
    }
   ],
   "source": [
    "ls"
   ]
  },
  {
   "cell_type": "code",
   "execution_count": null,
   "id": "0594ecd0",
   "metadata": {},
   "outputs": [],
   "source": []
  }
 ],
 "metadata": {
  "kernelspec": {
   "display_name": "Python 3",
   "language": "python",
   "name": "python3"
  },
  "language_info": {
   "codemirror_mode": {
    "name": "ipython",
    "version": 3
   },
   "file_extension": ".py",
   "mimetype": "text/x-python",
   "name": "python",
   "nbconvert_exporter": "python",
   "pygments_lexer": "ipython3",
   "version": "3.8.8"
  }
 },
 "nbformat": 4,
 "nbformat_minor": 5
}
